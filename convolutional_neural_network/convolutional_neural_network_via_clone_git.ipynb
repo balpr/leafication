{
  "nbformat": 4,
  "nbformat_minor": 0,
  "metadata": {
    "colab": {
      "name": "convolutional_neural_network.ipynb",
      "provenance": [],
      "include_colab_link": true
    },
    "kernelspec": {
      "name": "python3",
      "display_name": "Python 3"
    },
    "language_info": {
      "name": "python"
    }
  },
  "cells": [
    {
      "cell_type": "markdown",
      "metadata": {
        "id": "view-in-github",
        "colab_type": "text"
      },
      "source": [
        "<a href=\"https://colab.research.google.com/github/balpr/leafication/blob/main/convolutional_neural_network/convolutional_neural_network_via_clone_git.ipynb\" target=\"_parent\"><img src=\"https://colab.research.google.com/assets/colab-badge.svg\" alt=\"Open In Colab\"/></a>"
      ]
    },
    {
      "cell_type": "code",
      "metadata": {
        "colab": {
          "base_uri": "https://localhost:8080/"
        },
        "id": "TYG8HEb3Dkpa",
        "outputId": "9a9a25ae-b622-4b90-c308-eff2fa50035d"
      },
      "source": [
        "# Download dataset\n",
        "# !wget --no-check-certificate \\\n",
        "#     https://storage.googleapis.com/mledu-datasets/cats_and_dogs_filtered.zip \\\n",
        "#     -O /tmp/cats_and_dogs_filtered.zip\n",
        "!git clone https://github.com/balpr/leafication.git"
      ],
      "execution_count": 1,
      "outputs": [
        {
          "output_type": "stream",
          "name": "stdout",
          "text": [
            "Cloning into 'leafication'...\n",
            "remote: Enumerating objects: 229, done.\u001b[K\n",
            "remote: Counting objects: 100% (229/229), done.\u001b[K\n",
            "remote: Compressing objects: 100% (223/223), done.\u001b[K\n",
            "remote: Total 229 (delta 55), reused 0 (delta 0), pack-reused 0\u001b[K\n",
            "Receiving objects: 100% (229/229), 18.07 MiB | 18.04 MiB/s, done.\n",
            "Resolving deltas: 100% (55/55), done.\n"
          ]
        }
      ]
    },
    {
      "cell_type": "code",
      "metadata": {
        "id": "4rtnNrFsEDIf"
      },
      "source": [
        "# import os\n",
        "import os"
      ],
      "execution_count": 2,
      "outputs": []
    },
    {
      "cell_type": "code",
      "metadata": {
        "id": "y9L_1kqnEEjc"
      },
      "source": [
        "# Definisikan path untuk data train dan data validation\n",
        "\n",
        "base_dir = '/content/leafication/daun_herbal'\n",
        "\n",
        "train_dir = os.path.join(base_dir, 'train')\n",
        "validation_dir = os.path.join(base_dir, 'validation')"
      ],
      "execution_count": 3,
      "outputs": []
    },
    {
      "cell_type": "code",
      "metadata": {
        "id": "9gc0BCSREF0M"
      },
      "source": [
        "import cv2\n",
        "import numpy as np\n",
        "\n",
        "# Gather data train\n",
        "train_data = []\n",
        "train_label = []\n",
        "for r, d, f in os.walk(train_dir):\n",
        "    for file in f:\n",
        "        if \".jpg\" or \".JPG\" in file:\n",
        "            imagePath = os.path.join(r, file)\n",
        "            image = cv2.imread(imagePath)\n",
        "            image = cv2.resize(image, (150,150))\n",
        "            train_data.append(image)\n",
        "            label = imagePath.split(os.path.sep)[-2]\n",
        "            train_label.append(label)\n",
        "\n",
        "train_data = np.array(train_data)\n",
        "train_label = np.array(train_label)"
      ],
      "execution_count": 7,
      "outputs": []
    },
    {
      "cell_type": "code",
      "metadata": {
        "id": "FuoKFhhVEG_O"
      },
      "source": [
        "# Gather data validation\n",
        "val_data = []\n",
        "val_label = []\n",
        "for r, d, f in os.walk(validation_dir):\n",
        "    for file in f:\n",
        "        if \".jpg\" or \".JPG\" in file:\n",
        "            imagePath = os.path.join(r, file)\n",
        "            image = cv2.imread(imagePath)\n",
        "            image = cv2.resize(image, (150,150))\n",
        "            val_data.append(image)\n",
        "            label = imagePath.split(os.path.sep)[-2]\n",
        "            val_label.append(label)\n",
        "\n",
        "val_data = np.array(val_data)\n",
        "val_label = np.array(val_label)"
      ],
      "execution_count": 9,
      "outputs": []
    },
    {
      "cell_type": "markdown",
      "metadata": {
        "id": "kiXbwrN3ELqv"
      },
      "source": [
        "<h3>Data Preprocessing</h3>"
      ]
    },
    {
      "cell_type": "code",
      "metadata": {
        "colab": {
          "base_uri": "https://localhost:8080/"
        },
        "id": "m5VhnvtrEI1I",
        "outputId": "cbc172cb-9252-4ae8-9aea-30d76c7e63ac"
      },
      "source": [
        "# Tampilkan shape dari data train dan data validation\n",
        "print(\"Train Data = \", train_data.shape)\n",
        "print(\"Train Label = \", train_label.shape)\n",
        "print(\"Validation Data = \", val_data.shape)\n",
        "print(\"Validation Label = \", val_label.shape)"
      ],
      "execution_count": 10,
      "outputs": [
        {
          "output_type": "stream",
          "name": "stdout",
          "text": [
            "Train Data =  (80, 150, 150, 3)\n",
            "Train Label =  (80,)\n",
            "Validation Data =  (20, 150, 150, 3)\n",
            "Validation Label =  (20,)\n"
          ]
        }
      ]
    },
    {
      "cell_type": "code",
      "metadata": {
        "colab": {
          "base_uri": "https://localhost:8080/"
        },
        "id": "q1LVp6dCENne",
        "outputId": "879c3483-cfe9-47cb-b3fc-38070618b64e"
      },
      "source": [
        "# Normalisasi dataset\n",
        "print(\"Data sebelum di-normalisasi \", train_data[0][0][0])\n",
        "\n",
        "x_train = train_data.astype('float32') / 255.0\n",
        "x_val = val_data.astype('float32') / 255.0\n",
        "print(\"Data setelah di-normalisasi \", x_train[0][0][0])"
      ],
      "execution_count": 11,
      "outputs": [
        {
          "output_type": "stream",
          "name": "stdout",
          "text": [
            "Data sebelum di-normalisasi  [255 255 255]\n",
            "Data setelah di-normalisasi  [1. 1. 1.]\n"
          ]
        }
      ]
    },
    {
      "cell_type": "code",
      "metadata": {
        "colab": {
          "base_uri": "https://localhost:8080/"
        },
        "id": "tc7FivC6EPhm",
        "outputId": "3d004ba7-9459-4d7d-e825-aac7974790b7"
      },
      "source": [
        "# Transformasi label encoder\n",
        "from sklearn.preprocessing import LabelEncoder\n",
        "\n",
        "print(\"Label sebelum di-encoder \", train_label[35:45])\n",
        "\n",
        "lb = LabelEncoder()\n",
        "y_train = lb.fit_transform(train_label)\n",
        "y_val = lb.fit_transform(val_label)\n",
        "\n",
        "print(\"Label setelah di-encoder \", y_train[35:45])"
      ],
      "execution_count": 13,
      "outputs": [
        {
          "output_type": "stream",
          "name": "stdout",
          "text": [
            "Label sebelum di-encoder  ['jeruk_nipis' 'jeruk_nipis' 'jeruk_nipis' 'jeruk_nipis' 'jeruk_nipis'\n",
            " 'belimbing_wuluh' 'belimbing_wuluh' 'belimbing_wuluh' 'belimbing_wuluh'\n",
            " 'belimbing_wuluh']\n",
            "Label setelah di-encoder  [1 1 1 1 1 0 0 0 0 0]\n"
          ]
        }
      ]
    },
    {
      "cell_type": "markdown",
      "metadata": {
        "id": "4jVWbOhOEzQJ"
      },
      "source": [
        "<h3>Definisikan Model</h3>"
      ]
    },
    {
      "cell_type": "code",
      "metadata": {
        "id": "usLiFiwAEvVb"
      },
      "source": [
        "from tensorflow.keras.models import Sequential\n",
        "from tensorflow.keras.layers import InputLayer, Dense, Conv2D, MaxPool2D, Flatten"
      ],
      "execution_count": 14,
      "outputs": []
    },
    {
      "cell_type": "code",
      "metadata": {
        "id": "rDwzxacpE1ei"
      },
      "source": [
        "# Feature Extraction Layer\n",
        "model = Sequential()\n",
        "\n",
        "model.add(InputLayer(input_shape=[150,150,3]))\n",
        "model.add(Conv2D(filters=16, kernel_size=3, strides=1, padding='same', activation='relu'))\n",
        "model.add(MaxPool2D(pool_size=2, padding='same'))\n",
        "model.add(Conv2D(filters=32, kernel_size=3, strides=1, padding='same', activation='relu'))\n",
        "model.add(MaxPool2D(pool_size=2, padding='same'))\n",
        "model.add(Conv2D(filters=64, kernel_size=3, strides=1, padding='same', activation='relu'))\n",
        "model.add(MaxPool2D(pool_size=2, padding='same'))\n",
        "model.add(Flatten())"
      ],
      "execution_count": 15,
      "outputs": []
    },
    {
      "cell_type": "code",
      "metadata": {
        "id": "Sud1AUF0E2k8"
      },
      "source": [
        "# Fully Connected Layer\n",
        "model.add(Dense(128, activation='relu'))\n",
        "model.add(Dense(1, activation='sigmoid'))"
      ],
      "execution_count": 16,
      "outputs": []
    },
    {
      "cell_type": "code",
      "metadata": {
        "colab": {
          "base_uri": "https://localhost:8080/"
        },
        "id": "XW-KE9ePE466",
        "outputId": "fb864c54-5dfe-476e-ef9c-1cb1611ba553"
      },
      "source": [
        "# Print model summary\n",
        "print(model.summary())"
      ],
      "execution_count": 17,
      "outputs": [
        {
          "output_type": "stream",
          "name": "stdout",
          "text": [
            "Model: \"sequential\"\n",
            "_________________________________________________________________\n",
            " Layer (type)                Output Shape              Param #   \n",
            "=================================================================\n",
            " conv2d (Conv2D)             (None, 150, 150, 16)      448       \n",
            "                                                                 \n",
            " max_pooling2d (MaxPooling2D  (None, 75, 75, 16)       0         \n",
            " )                                                               \n",
            "                                                                 \n",
            " conv2d_1 (Conv2D)           (None, 75, 75, 32)        4640      \n",
            "                                                                 \n",
            " max_pooling2d_1 (MaxPooling  (None, 38, 38, 32)       0         \n",
            " 2D)                                                             \n",
            "                                                                 \n",
            " conv2d_2 (Conv2D)           (None, 38, 38, 64)        18496     \n",
            "                                                                 \n",
            " max_pooling2d_2 (MaxPooling  (None, 19, 19, 64)       0         \n",
            " 2D)                                                             \n",
            "                                                                 \n",
            " flatten (Flatten)           (None, 23104)             0         \n",
            "                                                                 \n",
            " dense (Dense)               (None, 128)               2957440   \n",
            "                                                                 \n",
            " dense_1 (Dense)             (None, 1)                 129       \n",
            "                                                                 \n",
            "=================================================================\n",
            "Total params: 2,981,153\n",
            "Trainable params: 2,981,153\n",
            "Non-trainable params: 0\n",
            "_________________________________________________________________\n",
            "None\n"
          ]
        }
      ]
    },
    {
      "cell_type": "code",
      "metadata": {
        "id": "Tais64D7E5Zo"
      },
      "source": [
        "# Compile model\n",
        "from tensorflow.keras.optimizers import Adam\n",
        "\n",
        "model.compile(optimizer=Adam(learning_rate=0.001), \n",
        "              loss='binary_crossentropy', \n",
        "              metrics=['acc'])"
      ],
      "execution_count": 19,
      "outputs": []
    },
    {
      "cell_type": "markdown",
      "metadata": {
        "id": "NTNBH19iE8kt"
      },
      "source": [
        "<h3>Training Model</h3>"
      ]
    },
    {
      "cell_type": "code",
      "metadata": {
        "colab": {
          "base_uri": "https://localhost:8080/"
        },
        "id": "p4Vr8dyvE6pM",
        "outputId": "f4270a7b-be04-4091-898b-66014dc27e35"
      },
      "source": [
        "H = model.fit(x_train, y_train, batch_size=20, epochs=15, validation_data=(x_val, y_val))"
      ],
      "execution_count": 20,
      "outputs": [
        {
          "output_type": "stream",
          "name": "stdout",
          "text": [
            "Epoch 1/15\n",
            "4/4 [==============================] - 3s 548ms/step - loss: 0.8895 - acc: 0.4750 - val_loss: 0.3929 - val_acc: 1.0000\n",
            "Epoch 2/15\n",
            "4/4 [==============================] - 2s 469ms/step - loss: 0.3058 - acc: 1.0000 - val_loss: 0.1617 - val_acc: 1.0000\n",
            "Epoch 3/15\n",
            "4/4 [==============================] - 2s 468ms/step - loss: 0.0885 - acc: 1.0000 - val_loss: 0.0222 - val_acc: 1.0000\n",
            "Epoch 4/15\n",
            "4/4 [==============================] - 2s 477ms/step - loss: 0.0084 - acc: 1.0000 - val_loss: 0.0018 - val_acc: 1.0000\n",
            "Epoch 5/15\n",
            "4/4 [==============================] - 2s 486ms/step - loss: 7.8453e-04 - acc: 1.0000 - val_loss: 1.6607e-04 - val_acc: 1.0000\n",
            "Epoch 6/15\n",
            "4/4 [==============================] - 2s 480ms/step - loss: 7.6013e-05 - acc: 1.0000 - val_loss: 0.0012 - val_acc: 1.0000\n",
            "Epoch 7/15\n",
            "4/4 [==============================] - 2s 493ms/step - loss: 9.5214e-05 - acc: 1.0000 - val_loss: 0.0028 - val_acc: 1.0000\n",
            "Epoch 8/15\n",
            "4/4 [==============================] - 2s 498ms/step - loss: 2.7010e-05 - acc: 1.0000 - val_loss: 5.7677e-04 - val_acc: 1.0000\n",
            "Epoch 9/15\n",
            "4/4 [==============================] - 2s 486ms/step - loss: 2.3664e-06 - acc: 1.0000 - val_loss: 8.7148e-05 - val_acc: 1.0000\n",
            "Epoch 10/15\n",
            "4/4 [==============================] - 2s 475ms/step - loss: 2.9056e-07 - acc: 1.0000 - val_loss: 2.1920e-05 - val_acc: 1.0000\n",
            "Epoch 11/15\n",
            "4/4 [==============================] - 2s 487ms/step - loss: 1.9581e-07 - acc: 1.0000 - val_loss: 7.4528e-06 - val_acc: 1.0000\n",
            "Epoch 12/15\n",
            "4/4 [==============================] - 2s 475ms/step - loss: 2.7587e-07 - acc: 1.0000 - val_loss: 3.4349e-06 - val_acc: 1.0000\n",
            "Epoch 13/15\n",
            "4/4 [==============================] - 2s 481ms/step - loss: 3.2821e-07 - acc: 1.0000 - val_loss: 2.1621e-06 - val_acc: 1.0000\n",
            "Epoch 14/15\n",
            "4/4 [==============================] - 2s 481ms/step - loss: 4.1415e-07 - acc: 1.0000 - val_loss: 1.6702e-06 - val_acc: 1.0000\n",
            "Epoch 15/15\n",
            "4/4 [==============================] - 2s 494ms/step - loss: 4.4709e-07 - acc: 1.0000 - val_loss: 1.4961e-06 - val_acc: 1.0000\n"
          ]
        }
      ]
    },
    {
      "cell_type": "markdown",
      "metadata": {
        "id": "HuxjW35RFCZ6"
      },
      "source": [
        "<h3>Evaluasi Model</h3>"
      ]
    },
    {
      "cell_type": "code",
      "metadata": {
        "colab": {
          "base_uri": "https://localhost:8080/",
          "height": 299
        },
        "id": "1AM3ms3zE_AU",
        "outputId": "a98e6526-443a-4e62-a959-d6a39babc0b1"
      },
      "source": [
        "%matplotlib inline\n",
        "\n",
        "import matplotlib.pyplot as plt\n",
        "\n",
        "plt.style.use(\"ggplot\")\n",
        "plt.figure()\n",
        "plt.plot(np.arange(0, 15), H.history[\"loss\"], label=\"train_loss\")\n",
        "plt.plot(np.arange(0, 15), H.history[\"val_loss\"], label=\"val_loss\")\n",
        "plt.title(\"Loss Plot\")\n",
        "plt.xlabel(\"Epoch #\")\n",
        "plt.ylabel(\"Loss\")\n",
        "plt.legend()\n",
        "plt.show()"
      ],
      "execution_count": 21,
      "outputs": [
        {
          "output_type": "display_data",
          "data": {
            "image/png": "[encoded data removed]",
            "text/plain": [
              "<Figure size 432x288 with 1 Axes>"
            ]
          },
          "metadata": {}
        }
      ]
    },
    {
      "cell_type": "code",
      "metadata": {
        "colab": {
          "base_uri": "https://localhost:8080/",
          "height": 299
        },
        "id": "q1SJWudcFEDL",
        "outputId": "630832a7-faad-4e37-e626-793f84a03a82"
      },
      "source": [
        "plt.style.use(\"ggplot\")\n",
        "plt.figure()\n",
        "plt.plot(np.arange(0, 15), H.history[\"acc\"], label=\"train_acc\")\n",
        "plt.plot(np.arange(0, 15), H.history[\"val_acc\"], label=\"val_acc\")\n",
        "plt.title(\"Accuracy Plot\")\n",
        "plt.xlabel(\"Epoch #\")\n",
        "plt.ylabel(\"Acc\")\n",
        "plt.legend()\n",
        "plt.show()"
      ],
      "execution_count": 22,
      "outputs": [
        {
          "output_type": "display_data",
          "data": {
            "image/png": "[encoded data removed]",
            "text/plain": [
              "<Figure size 432x288 with 1 Axes>"
            ]
          },
          "metadata": {}
        }
      ]
    },
    {
      "cell_type": "code",
      "metadata": {
        "colab": {
          "base_uri": "https://localhost:8080/"
        },
        "id": "H_8mB3igFG-x",
        "outputId": "263b449a-7a0e-4fe8-860f-90e98e6edf80"
      },
      "source": [
        "from sklearn.metrics import classification_report\n",
        "\n",
        "pred = model.predict(x_val)\n",
        "labels = (pred > 0.5).astype(np.int)\n",
        "\n",
        "print(classification_report(y_val, labels))"
      ],
      "execution_count": 23,
      "outputs": [
        {
          "output_type": "stream",
          "name": "stdout",
          "text": [
            "              precision    recall  f1-score   support\n",
            "\n",
            "           0       1.00      1.00      1.00        10\n",
            "           1       1.00      1.00      1.00        10\n",
            "\n",
            "    accuracy                           1.00        20\n",
            "   macro avg       1.00      1.00      1.00        20\n",
            "weighted avg       1.00      1.00      1.00        20\n",
            "\n"
          ]
        }
      ]
    }
  ]
}